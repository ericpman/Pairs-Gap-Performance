{
 "cells": [
  {
   "cell_type": "code",
   "execution_count": 4,
   "id": "5e158338-f21c-4797-befc-16cb918154e1",
   "metadata": {},
   "outputs": [
    {
     "name": "stdin",
     "output_type": "stream",
     "text": [
      "Enter Stock1: aapl\n"
     ]
    },
    {
     "name": "stderr",
     "output_type": "stream",
     "text": [
      "[*********************100%***********************]  1 of 1 completed\n"
     ]
    },
    {
     "name": "stdin",
     "output_type": "stream",
     "text": [
      "Enter Stock2: msft\n"
     ]
    },
    {
     "name": "stderr",
     "output_type": "stream",
     "text": [
      "[*********************100%***********************]  1 of 1 completed\n"
     ]
    },
    {
     "name": "stdin",
     "output_type": "stream",
     "text": [
      "Gap %: 2\n"
     ]
    },
    {
     "name": "stdout",
     "output_type": "stream",
     "text": [
      "\n",
      "Total Performance on Positive Gap: -10.013208752228817\n",
      "Average Performance on Positive Gap: -0.4768194643918484\n",
      "Odds of Pair Reverting on Positive Gap: 57.1%\n",
      "\n",
      "Total Performance on Negative Gap: 33.53717516834295\n",
      "Average Performance on Negative Gap: 0.8179798821547061\n",
      "Odds of Pair Reverting on Negative Gap: 73.2%\n"
     ]
    }
   ],
   "source": [
    "# Import necessary libraries\n",
    "import pandas as pd\n",
    "import yfinance as yf\n",
    "\n",
    "# Define the start and end dates for the stock data to be retrieved\n",
    "start = '2019-09-01'\n",
    "end = '2024-09-01'\n",
    "\n",
    "# Download stock data for two stocks specified by the user input. User will be prompted to enter in ticker symbols via the 'input' function.\n",
    "# Assign variable names stock1 and stock2\n",
    "stock1 = yf.download(input('Enter Stock1:'), start=start, end=end)\n",
    "stock2 = yf.download(input('Enter Stock2:'), start=start, end=end)\n",
    "\n",
    "# Merge the two stock dataframes on the 'Date' column, adding suffixes to distinguish between the two stocks\n",
    "pair = pd.merge(stock1, stock2, on='Date', suffixes=('_stock1', '_stock2'))\n",
    "\n",
    "# Calculate the spread between the opening prices of the two stocks\n",
    "pair['Spread Open'] = pair['Open_stock1'] / pair['Open_stock2']\n",
    "\n",
    "# Calculate the spread between the closing prices of the two stocks\n",
    "pair['Spread Close'] = pair['Close_stock1'] / pair['Close_stock2']\n",
    "\n",
    "# Calculate the percentage change in the spread from the previous day's close to today's open\n",
    "pair['Spread Close to Open'] = (pair['Spread Open'] - pair['Spread Close'].shift(1)) / pair['Spread Close'].shift(1) * 100\n",
    "\n",
    "# Calculate the percentage change in the spread from today's open to today's close\n",
    "pair['Spread Open to Close'] = (pair['Spread Close'] - pair['Spread Open']) / pair['Spread Open'] * 100\n",
    "\n",
    "# Prompt the user to input a gap percentage to filter based on the degree of the gap at the open\n",
    "gappct = float(input('Gap %:'))\n",
    "print()\n",
    "\n",
    "# Filter the pairs where the percentage change in the spread exceeds the specified gap percentage\n",
    "gap = pair[(pair['Spread Close to Open'] > gappct) | (pair['Spread Close to Open'] < gappct * -1)]\n",
    "\n",
    "# Separate the filtered data into positive and negative gaps\n",
    "positivegap = gap[gap['Spread Close to Open'] > 0]\n",
    "negativegap = gap[gap['Spread Close to Open'] < 0]\n",
    "\n",
    "# Calculate the total performance of the pairs on positive gaps\n",
    "sum_positive = positivegap['Spread Open to Close'].sum()\n",
    "# Calculate the average performance of the pairs on positive gaps\n",
    "avg_positive = positivegap['Spread Open to Close'].mean()\n",
    "# Calculate the total performance of the pairs on negative gaps\n",
    "sum_negative = negativegap['Spread Open to Close'].sum()\n",
    "# Calculate the average performance of the pairs on negative gaps\n",
    "avg_negative = negativegap['Spread Open to Close'].mean()\n",
    "\n",
    "# Count the number of occurrences where the spread reverts positively after a negative gap\n",
    "num_of_pos_outcomes = len(negativegap[negativegap['Spread Open to Close'] > 0])\n",
    "# Count the number of occurrences where the spread reverts negatively after a positive gap\n",
    "num_of_neg_outcomes = len(positivegap[positivegap['Spread Open to Close'] < 0])\n",
    "\n",
    "# Calculate the odds of the pair reverting after a negative gap\n",
    "odds_gap_down = round(num_of_pos_outcomes / len(negativegap['Spread Open to Close']) * 100, 1)\n",
    "# Calculate the odds of the pair reverting after a positive gap\n",
    "odds_gap_up = round(num_of_neg_outcomes / len(positivegap['Spread Open to Close']) * 100, 1)\n",
    "\n",
    "# Print the results for positive gaps\n",
    "print('Total Performance on Positive Gap:', sum_positive)\n",
    "print('Average Performance on Positive Gap:', avg_positive)\n",
    "print(f'Odds of Pair Reverting on Positive Gap: {odds_gap_up}%\\n')\n",
    "\n",
    "# Print the results for negative gaps\n",
    "print('Total Performance on Negative Gap:', sum_negative)\n",
    "print('Average Performance on Negative Gap:', avg_negative)\n",
    "print(f'Odds of Pair Reverting on Negative Gap: {odds_gap_down}%')\n"
   ]
  },
  {
   "cell_type": "code",
   "execution_count": null,
   "id": "6a82cae4-4ee2-4317-bd0c-aa78d79e2bee",
   "metadata": {},
   "outputs": [],
   "source": []
  }
 ],
 "metadata": {
  "kernelspec": {
   "display_name": "Python 3 (ipykernel)",
   "language": "python",
   "name": "python3"
  },
  "language_info": {
   "codemirror_mode": {
    "name": "ipython",
    "version": 3
   },
   "file_extension": ".py",
   "mimetype": "text/x-python",
   "name": "python",
   "nbconvert_exporter": "python",
   "pygments_lexer": "ipython3",
   "version": "3.12.4"
  }
 },
 "nbformat": 4,
 "nbformat_minor": 5
}
