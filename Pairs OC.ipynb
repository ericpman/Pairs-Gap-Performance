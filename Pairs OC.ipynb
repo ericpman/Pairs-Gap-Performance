{
 "cells": [
  {
   "cell_type": "code",
   "execution_count": 4,
   "id": "5e158338-f21c-4797-befc-16cb918154e1",
   "metadata": {},
   "outputs": [
    {
     "name": "stdin",
     "output_type": "stream",
     "text": [
      "Enter Stock1: iwm\n",
      "Enter Stock2: rsp\n"
     ]
    },
    {
     "name": "stderr",
     "output_type": "stream",
     "text": [
      "[*********************100%***********************]  1 of 1 completed\n",
      "[*********************100%***********************]  1 of 1 completed\n"
     ]
    },
    {
     "name": "stdin",
     "output_type": "stream",
     "text": [
      "Gap %: -0.25\n"
     ]
    },
    {
     "name": "stdout",
     "output_type": "stream",
     "text": [
      "\n",
      "Total Gap Performance: -8.564762196286704\n",
      "Average Gap Performance: -0.019689108497210814\n",
      "Odds of Pair Reverting on Negative Gap: 47.4%\n"
     ]
    }
   ],
   "source": [
    "# Import necessary libraries\n",
    "import pandas as pd\n",
    "import yfinance as yf\n",
    "\n",
    "# Define the start and end dates for the stock data to be retrieved\n",
    "start = '2019-09-01'\n",
    "end = '2024-11-09'\n",
    "\n",
    "# Prompt for Stock1 ticker input\n",
    "while True:\n",
    "    \n",
    "    stock1_ticker = input('Enter Stock1:')\n",
    "    \n",
    "    # Check if input is empty\n",
    "    if len(stock1_ticker) == 0:\n",
    "        print('Error: Input must not be empty. Please enter a valid ticker.')\n",
    "        continue\n",
    "        \n",
    "    # Check if input is a number (not valid for tickers)\n",
    "    if stock1_ticker.isdigit():\n",
    "        print('Error: Ticker symbol cannot be a number. Please enter a valid ticker')\n",
    "        continue\n",
    "        \n",
    "    # If input is valid, break out of the loop\n",
    "    break\n",
    "\n",
    "# Same steps for Stock2\n",
    "while True:\n",
    "    \n",
    "    stock2_ticker = input('Enter Stock2:')\n",
    "\n",
    "    if len(stock2_ticker) == 0:\n",
    "        print('Error: Input must not be empty. Please enter a valid ticker.')\n",
    "        continue\n",
    "\n",
    "    if stock2_ticker.isdigit():\n",
    "        print('Error: Ticker symbol cannot be a number. Please enter a valid ticker')\n",
    "        continue\n",
    "\n",
    "    break\n",
    "\n",
    "# Download stock data for two stocks specified by the user input. User will be prompted to enter in ticker symbols via the 'input' function.\n",
    "# Assign variable names stock1 and stock2\n",
    "\n",
    "stock1 = yf.download(stock1_ticker, start=start, end=end)\n",
    "stock2 = yf.download(stock2_ticker, start=start, end=end)\n",
    "\n",
    "# Merge the two stock dataframes on the 'Date' column, adding suffixes to distinguish between the two stocks\n",
    "pair = pd.merge(stock1, stock2, on='Date', suffixes=('_stock1', '_stock2'))\n",
    "\n",
    "# Calculate the spread between the opening prices of the two stocks\n",
    "pair['Spread Open'] = pair['Open_stock1'] / pair['Open_stock2']\n",
    "\n",
    "# Calculate the spread between the closing prices of the two stocks\n",
    "pair['Spread Close'] = pair['Close_stock1'] / pair['Close_stock2']\n",
    "\n",
    "# Calculate the percentage change in the spread from the previous day's close to today's open\n",
    "pair['Spread Close to Open'] = (pair['Spread Open'] - pair['Spread Close'].shift(1)) / pair['Spread Close'].shift(1) * 100\n",
    "\n",
    "# Calculate the percentage change in the spread from today's open to today's close\n",
    "pair['Spread Open to Close'] = (pair['Spread Close'] - pair['Spread Open']) / pair['Spread Open'] * 100\n",
    "\n",
    "# Prompt the user to input a gap percentage to filter based on the degree of the gap at the open\n",
    "gappct = float(input('Gap %:'))\n",
    "print()\n",
    "\n",
    "# Filter the pairs where the percentage change in the spread exceeds the specified gap percentage\n",
    "gap = pair[(pair['Spread Close to Open'] > gappct - 0.2) & (pair['Spread Close to Open'] < gappct + 0.2)]\n",
    "\n",
    "# Separate the filtered data into positive and negative gaps\n",
    "positivegap = gap[gap['Spread Close to Open'] > 0]\n",
    "negativegap = gap[gap['Spread Close to Open'] < 0]\n",
    "\n",
    "# Calculate the total performance of the pairs on positive gaps\n",
    "sum_gap = gap['Spread Open to Close'].sum()\n",
    "# Calculate the average performance of the pairs on positive gaps\n",
    "avg_gap = gap['Spread Open to Close'].mean()\n",
    "# Calculate the total performance of the pairs on negative gaps\n",
    "\n",
    "# Count the number of occurrences where the spread reverts negatively after a positive gap\n",
    "if gappct > 0:\n",
    "    num_neg_outcomes_up_gap = len(positivegap[positivegap['Spread Open to Close'] < 0])\n",
    "    # Calculate the odds of the pair reverting after a positive gap\n",
    "    odds_gap_up = round(num_neg_outcomes_up_gap / len(positivegap) * 100, 1)\n",
    "    \n",
    "# Count the number of occurrences where the spread reverts positively after a negative gap\n",
    "else:\n",
    "    num_pos_outcomes_down_gap = len(negativegap[negativegap['Spread Open to Close'] > 0])\n",
    "    # Calculate the odds of the pair reverting gap\n",
    "    odds_gap_down = round(num_pos_outcomes_down_gap / len(negativegap) * 100, 1)\n",
    "\n",
    "\n",
    "# Print the results for gap performance\n",
    "print('Total Gap Performance:', sum_gap)\n",
    "print('Average Gap Performance:', avg_gap)\n",
    "if gappct > 0:\n",
    "    print(f'Odds of Pair Reverting on Gap: {odds_gap_up}%\\n')\n",
    "    print(f'')\n",
    "else:\n",
    "    print(f'Odds of Pair Reverting on Negative Gap: {odds_gap_down}%')\n"
   ]
  },
  {
   "cell_type": "code",
   "execution_count": null,
   "id": "6a82cae4-4ee2-4317-bd0c-aa78d79e2bee",
   "metadata": {},
   "outputs": [],
   "source": []
  }
 ],
 "metadata": {
  "kernelspec": {
   "display_name": "Python 3 (ipykernel)",
   "language": "python",
   "name": "python3"
  },
  "language_info": {
   "codemirror_mode": {
    "name": "ipython",
    "version": 3
   },
   "file_extension": ".py",
   "mimetype": "text/x-python",
   "name": "python",
   "nbconvert_exporter": "python",
   "pygments_lexer": "ipython3",
   "version": "3.12.4"
  }
 },
 "nbformat": 4,
 "nbformat_minor": 5
}
